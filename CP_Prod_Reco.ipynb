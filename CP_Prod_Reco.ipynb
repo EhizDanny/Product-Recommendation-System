{
 "cells": [
  {
   "cell_type": "markdown",
   "metadata": {},
   "source": [
    "Recommendation System\n",
    "\n",
    "Overview of the Project \n",
    "While visiting a shopping mall, many salesmen often try to recommend the customers exciting deals and offers that might of interest them. <br>\n",
    "Similarly, e-commerce sites use recommender systems to suggest products to their customers that they are highly likely to buy. \n",
    "\n",
    "Problem Statement: \n",
    "In this data science project, you will build collaborative filtering algorithm based recommender system.\n",
    "\n",
    "Data Description \n",
    "The data is contained in a csv file, named ’ratings_beauty.csv’ <br>\n",
    "It has four types of values: userid, productid, ratings, and timestamp. <br>\n",
    "UserId and Productid are used for identification purposes. <br>\n",
    "Ratings are the feedback provided by the user corresponding to a product in that row <br>\n",
    "Timestamp represents the time at which user submitted the rating. <br>\n",
    "The file has about 2 million reviews and ratings for beauty products available on Amazon.<br>\n",
    "\n",
    "__Learnings from the Project__ <br>\n",
    "Introduction to Recommender Systems <br>\n",
    "Popular Exploratory Data Analysis (EDA) Techniques <br>\n",
    "Data Visualization <br>\n",
    "Data Encoding Methods <br>\n",
    "Cosine Similarity and Centres Cosine Similarity <br>\n",
    "User-Item Matrix <br>\n",
    "Ways to identify similar customers<br>\n"
   ]
  },
  {
   "cell_type": "markdown",
   "metadata": {},
   "source": [
    "#### Brief Note on Collaborative Filtering #####"
   ]
  },
  {
   "cell_type": "markdown",
   "metadata": {},
   "source": [
    "__Collaborative filtering__ is a technique that can filter out items that a user might like on the basis of reactions by similar users. They rely on the assumption that similar users like similar items. Similarity measures between users and/or items are used to make recommendations.\n",
    "\n",
    "It works by searching a large group of people and finding a smaller set of users with tastes similar to a particular user. It looks at the items they like and combines them to create a ranked list of suggestions.\n",
    "\n",
    "To build a system that can automatically recommend items to users based on the preferences of other users, the first step is to find similar users or items. The second step is to predict the ratings of the items that are not yet rated by a user. So, you will need the answers to these questions:\n",
    "\n",
    "One important thing to keep in mind is that in an approach based purely on collaborative filtering, the similarity is not calculated using factors like the age of users, genre of the movie, or any other data about users or items. It is calculated only on the basis of the rating (explicit or implicit) a user gives to an item. For example, two users can be considered similar if they give the same ratings to ten movies despite there being a big difference in their age.\n",
    "\n",
    "__User-Based vs Item-Based Collaborative Filtering__\n",
    "The technique in the examples explained above, where the rating matrix is used to find similar users based on the ratings they give, is called user-based or user-user collaborative filtering. If you use the rating matrix to find similar items based on the ratings given to them by users, then the approach is called item-based or item-item collaborative filtering.\n",
    "\n",
    "The two approaches are mathematically quite similar, but there is a conceptual difference between the two. Here’s how the two compare:\n",
    "\n",
    "__User-based:__ For a user U, with a set of similar users determined based on rating vectors consisting of given item ratings, the rating for an item I, which hasn’t been rated, is found by picking out N users from the similarity list who have rated the item I and calculating the rating based on these N ratings.\n",
    "\n",
    "__Item-based:__ For an item I, with a set of similar items determined based on rating vectors consisting of received user ratings, the rating by a user U, who hasn’t rated it, is found by picking out N items from the similarity list that have been rated by U and calculating the rating based on these N ratings."
   ]
  },
  {
   "cell_type": "code",
   "execution_count": 2,
   "metadata": {},
   "outputs": [],
   "source": [
    "import pandas as pd\n",
    "import numpy as np\n",
    "import matplotlib.pyplot as plt\n",
    "%matplotlib inline\n",
    "import seaborn as sns"
   ]
  },
  {
   "cell_type": "code",
   "execution_count": 3,
   "metadata": {},
   "outputs": [],
   "source": [
    "ds = pd.read_csv(r\"C:\\Users\\AKINKUGBE ABIOLA\\Desktop\\Stutern\\ratings_Beauty.csv\")"
   ]
  },
  {
   "cell_type": "code",
   "execution_count": 122,
   "metadata": {},
   "outputs": [
    {
     "data": {
      "text/html": [
       "<div>\n",
       "<style scoped>\n",
       "    .dataframe tbody tr th:only-of-type {\n",
       "        vertical-align: middle;\n",
       "    }\n",
       "\n",
       "    .dataframe tbody tr th {\n",
       "        vertical-align: top;\n",
       "    }\n",
       "\n",
       "    .dataframe thead th {\n",
       "        text-align: right;\n",
       "    }\n",
       "</style>\n",
       "<table border=\"1\" class=\"dataframe\">\n",
       "  <thead>\n",
       "    <tr style=\"text-align: right;\">\n",
       "      <th></th>\n",
       "      <th>UserId</th>\n",
       "      <th>ProductId</th>\n",
       "      <th>Rating</th>\n",
       "      <th>Timestamp</th>\n",
       "    </tr>\n",
       "  </thead>\n",
       "  <tbody>\n",
       "    <tr>\n",
       "      <th>0</th>\n",
       "      <td>A39HTATAQ9V7YF</td>\n",
       "      <td>0205616461</td>\n",
       "      <td>5.0</td>\n",
       "      <td>1369699200</td>\n",
       "    </tr>\n",
       "    <tr>\n",
       "      <th>1</th>\n",
       "      <td>A3JM6GV9MNOF9X</td>\n",
       "      <td>0558925278</td>\n",
       "      <td>3.0</td>\n",
       "      <td>1355443200</td>\n",
       "    </tr>\n",
       "    <tr>\n",
       "      <th>2</th>\n",
       "      <td>A1Z513UWSAAO0F</td>\n",
       "      <td>0558925278</td>\n",
       "      <td>5.0</td>\n",
       "      <td>1404691200</td>\n",
       "    </tr>\n",
       "    <tr>\n",
       "      <th>3</th>\n",
       "      <td>A1WMRR494NWEWV</td>\n",
       "      <td>0733001998</td>\n",
       "      <td>4.0</td>\n",
       "      <td>1382572800</td>\n",
       "    </tr>\n",
       "    <tr>\n",
       "      <th>4</th>\n",
       "      <td>A3IAAVS479H7M7</td>\n",
       "      <td>0737104473</td>\n",
       "      <td>1.0</td>\n",
       "      <td>1274227200</td>\n",
       "    </tr>\n",
       "    <tr>\n",
       "      <th>...</th>\n",
       "      <td>...</td>\n",
       "      <td>...</td>\n",
       "      <td>...</td>\n",
       "      <td>...</td>\n",
       "    </tr>\n",
       "    <tr>\n",
       "      <th>2023065</th>\n",
       "      <td>A3DEHKPFANB8VA</td>\n",
       "      <td>B00LORWRJA</td>\n",
       "      <td>5.0</td>\n",
       "      <td>1405296000</td>\n",
       "    </tr>\n",
       "    <tr>\n",
       "      <th>2023066</th>\n",
       "      <td>A3DEHKPFANB8VA</td>\n",
       "      <td>B00LOS7MEE</td>\n",
       "      <td>5.0</td>\n",
       "      <td>1405296000</td>\n",
       "    </tr>\n",
       "    <tr>\n",
       "      <th>2023067</th>\n",
       "      <td>AG9TJLJUN5OM3</td>\n",
       "      <td>B00LP2YB8E</td>\n",
       "      <td>5.0</td>\n",
       "      <td>1405382400</td>\n",
       "    </tr>\n",
       "    <tr>\n",
       "      <th>2023068</th>\n",
       "      <td>AYBIB14QOI9PC</td>\n",
       "      <td>B00LPVG6V0</td>\n",
       "      <td>5.0</td>\n",
       "      <td>1405555200</td>\n",
       "    </tr>\n",
       "    <tr>\n",
       "      <th>2023069</th>\n",
       "      <td>A1PB6OT0OOPKNQ</td>\n",
       "      <td>B00LU0LTOU</td>\n",
       "      <td>5.0</td>\n",
       "      <td>1405641600</td>\n",
       "    </tr>\n",
       "  </tbody>\n",
       "</table>\n",
       "<p>2023070 rows × 4 columns</p>\n",
       "</div>"
      ],
      "text/plain": [
       "                 UserId   ProductId  Rating   Timestamp\n",
       "0        A39HTATAQ9V7YF  0205616461     5.0  1369699200\n",
       "1        A3JM6GV9MNOF9X  0558925278     3.0  1355443200\n",
       "2        A1Z513UWSAAO0F  0558925278     5.0  1404691200\n",
       "3        A1WMRR494NWEWV  0733001998     4.0  1382572800\n",
       "4        A3IAAVS479H7M7  0737104473     1.0  1274227200\n",
       "...                 ...         ...     ...         ...\n",
       "2023065  A3DEHKPFANB8VA  B00LORWRJA     5.0  1405296000\n",
       "2023066  A3DEHKPFANB8VA  B00LOS7MEE     5.0  1405296000\n",
       "2023067   AG9TJLJUN5OM3  B00LP2YB8E     5.0  1405382400\n",
       "2023068   AYBIB14QOI9PC  B00LPVG6V0     5.0  1405555200\n",
       "2023069  A1PB6OT0OOPKNQ  B00LU0LTOU     5.0  1405641600\n",
       "\n",
       "[2023070 rows x 4 columns]"
      ]
     },
     "execution_count": 122,
     "metadata": {},
     "output_type": "execute_result"
    }
   ],
   "source": [
    "ds"
   ]
  },
  {
   "cell_type": "code",
   "execution_count": 123,
   "metadata": {},
   "outputs": [
    {
     "data": {
      "text/plain": [
       "UserId       0\n",
       "ProductId    0\n",
       "Rating       0\n",
       "Timestamp    0\n",
       "dtype: int64"
      ]
     },
     "execution_count": 123,
     "metadata": {},
     "output_type": "execute_result"
    }
   ],
   "source": [
    "ds.isnull().sum()\n",
    "# No Null Values"
   ]
  },
  {
   "cell_type": "code",
   "execution_count": 124,
   "metadata": {},
   "outputs": [
    {
     "data": {
      "text/html": [
       "<div>\n",
       "<style scoped>\n",
       "    .dataframe tbody tr th:only-of-type {\n",
       "        vertical-align: middle;\n",
       "    }\n",
       "\n",
       "    .dataframe tbody tr th {\n",
       "        vertical-align: top;\n",
       "    }\n",
       "\n",
       "    .dataframe thead th {\n",
       "        text-align: right;\n",
       "    }\n",
       "</style>\n",
       "<table border=\"1\" class=\"dataframe\">\n",
       "  <thead>\n",
       "    <tr style=\"text-align: right;\">\n",
       "      <th></th>\n",
       "      <th>count</th>\n",
       "      <th>mean</th>\n",
       "      <th>std</th>\n",
       "      <th>min</th>\n",
       "      <th>25%</th>\n",
       "      <th>50%</th>\n",
       "      <th>75%</th>\n",
       "      <th>max</th>\n",
       "    </tr>\n",
       "  </thead>\n",
       "  <tbody>\n",
       "    <tr>\n",
       "      <th>Rating</th>\n",
       "      <td>2023070.0</td>\n",
       "      <td>4.149036e+00</td>\n",
       "      <td>1.311505e+00</td>\n",
       "      <td>1.0</td>\n",
       "      <td>4.000000e+00</td>\n",
       "      <td>5.000000e+00</td>\n",
       "      <td>5.000000e+00</td>\n",
       "      <td>5.000000e+00</td>\n",
       "    </tr>\n",
       "    <tr>\n",
       "      <th>Timestamp</th>\n",
       "      <td>2023070.0</td>\n",
       "      <td>1.360389e+09</td>\n",
       "      <td>4.611860e+07</td>\n",
       "      <td>908755200.0</td>\n",
       "      <td>1.350259e+09</td>\n",
       "      <td>1.372810e+09</td>\n",
       "      <td>1.391472e+09</td>\n",
       "      <td>1.406074e+09</td>\n",
       "    </tr>\n",
       "  </tbody>\n",
       "</table>\n",
       "</div>"
      ],
      "text/plain": [
       "               count          mean           std          min           25%  \\\n",
       "Rating     2023070.0  4.149036e+00  1.311505e+00          1.0  4.000000e+00   \n",
       "Timestamp  2023070.0  1.360389e+09  4.611860e+07  908755200.0  1.350259e+09   \n",
       "\n",
       "                    50%           75%           max  \n",
       "Rating     5.000000e+00  5.000000e+00  5.000000e+00  \n",
       "Timestamp  1.372810e+09  1.391472e+09  1.406074e+09  "
      ]
     },
     "execution_count": 124,
     "metadata": {},
     "output_type": "execute_result"
    }
   ],
   "source": [
    "ds.describe().T"
   ]
  },
  {
   "cell_type": "markdown",
   "metadata": {},
   "source": [
    "_Rating_: The mean is lesser than the median. That show that the dataset  is skewed <br>\n",
    "_TimeStamp_: The mean is not quite different from the median. That shows the dataset is normally distributed"
   ]
  },
  {
   "cell_type": "code",
   "execution_count": 3,
   "metadata": {},
   "outputs": [
    {
     "data": {
      "text/plain": [
       "5.0    1248721\n",
       "4.0     307740\n",
       "1.0     183784\n",
       "3.0     169791\n",
       "2.0     113034\n",
       "Name: Rating, dtype: int64"
      ]
     },
     "execution_count": 3,
     "metadata": {},
     "output_type": "execute_result"
    }
   ],
   "source": [
    "ds['Rating'].value_counts()"
   ]
  },
  {
   "cell_type": "code",
   "execution_count": 126,
   "metadata": {},
   "outputs": [
    {
     "name": "stderr",
     "output_type": "stream",
     "text": [
      "C:\\Users\\AKINKUGBE ABIOLA\\AppData\\Local\\Programs\\Python\\Python310\\lib\\site-packages\\seaborn\\_decorators.py:36: FutureWarning: Pass the following variable as a keyword arg: x. From version 0.12, the only valid positional argument will be `data`, and passing other arguments without an explicit keyword will result in an error or misinterpretation.\n",
      "  warnings.warn(\n"
     ]
    },
    {
     "data": {
      "text/plain": [
       "Text(0, 0.5, 'Count')"
      ]
     },
     "execution_count": 126,
     "metadata": {},
     "output_type": "execute_result"
    },
    {
     "data": {
      "image/png": "[encoded data removed]",
      "text/plain": [
       "<Figure size 720x504 with 1 Axes>"
      ]
     },
     "metadata": {
      "needs_background": "light"
     },
     "output_type": "display_data"
    }
   ],
   "source": [
    "# Show the distribution in the graph below\n",
    "plt.subplots(figsize=(10,7))\n",
    "sns.countplot(df['Rating'])\n",
    "plt.xlabel('Rating Distribution', fontsize=10)\n",
    "plt.ylabel('Count', fontsize=10)"
   ]
  },
  {
   "cell_type": "code",
   "execution_count": 127,
   "metadata": {},
   "outputs": [
    {
     "data": {
      "text/plain": [
       "249274"
      ]
     },
     "execution_count": 127,
     "metadata": {},
     "output_type": "execute_result"
    }
   ],
   "source": [
    "ds['ProductId'].nunique()\n",
    "# there are 249274 products in total"
   ]
  },
  {
   "cell_type": "code",
   "execution_count": 4,
   "metadata": {},
   "outputs": [],
   "source": [
    "df = ds.copy()"
   ]
  },
  {
   "cell_type": "markdown",
   "metadata": {},
   "source": [
    "__Removing Noise from the data__<br>\n",
    "In the real-world, ratings are very sparse and data points are mostly collected from very popular movies and highly engaged users. We wouldn’t want movies that were rated by a small number of users because it’s not credible enough.<br> Similarly, users who have rated only a handful of movies should also not be taken into account.\n",
    "\n",
    "\n",
    "\n",
    "So we first take cognizance of users who have given above 30 ratings"
   ]
  },
  {
   "cell_type": "code",
   "execution_count": 7,
   "metadata": {},
   "outputs": [],
   "source": [
    "users_counts = df['UserId'].value_counts().rename('users_counts')\n",
    "users_data   = df.merge(users_counts.to_frame(),\n",
    "                                left_on='UserId',\n",
    "                                right_index=True)"
   ]
  },
  {
   "cell_type": "code",
   "execution_count": 12,
   "metadata": {},
   "outputs": [
    {
     "data": {
      "text/html": [
       "<div>\n",
       "<style scoped>\n",
       "    .dataframe tbody tr th:only-of-type {\n",
       "        vertical-align: middle;\n",
       "    }\n",
       "\n",
       "    .dataframe tbody tr th {\n",
       "        vertical-align: top;\n",
       "    }\n",
       "\n",
       "    .dataframe thead th {\n",
       "        text-align: right;\n",
       "    }\n",
       "</style>\n",
       "<table border=\"1\" class=\"dataframe\">\n",
       "  <thead>\n",
       "    <tr style=\"text-align: right;\">\n",
       "      <th></th>\n",
       "      <th>UserId</th>\n",
       "      <th>ProductId</th>\n",
       "      <th>Rating</th>\n",
       "      <th>Timestamp</th>\n",
       "      <th>users_counts</th>\n",
       "    </tr>\n",
       "  </thead>\n",
       "  <tbody>\n",
       "    <tr>\n",
       "      <th>0</th>\n",
       "      <td>A39HTATAQ9V7YF</td>\n",
       "      <td>0205616461</td>\n",
       "      <td>5.0</td>\n",
       "      <td>1369699200</td>\n",
       "      <td>4</td>\n",
       "    </tr>\n",
       "    <tr>\n",
       "      <th>899125</th>\n",
       "      <td>A39HTATAQ9V7YF</td>\n",
       "      <td>B002OVV7F0</td>\n",
       "      <td>3.0</td>\n",
       "      <td>1369699200</td>\n",
       "      <td>4</td>\n",
       "    </tr>\n",
       "    <tr>\n",
       "      <th>969482</th>\n",
       "      <td>A39HTATAQ9V7YF</td>\n",
       "      <td>B0031IH5FQ</td>\n",
       "      <td>5.0</td>\n",
       "      <td>1369699200</td>\n",
       "      <td>4</td>\n",
       "    </tr>\n",
       "    <tr>\n",
       "      <th>1499680</th>\n",
       "      <td>A39HTATAQ9V7YF</td>\n",
       "      <td>B006GQPZ8E</td>\n",
       "      <td>4.0</td>\n",
       "      <td>1369699200</td>\n",
       "      <td>4</td>\n",
       "    </tr>\n",
       "    <tr>\n",
       "      <th>1</th>\n",
       "      <td>A3JM6GV9MNOF9X</td>\n",
       "      <td>0558925278</td>\n",
       "      <td>3.0</td>\n",
       "      <td>1355443200</td>\n",
       "      <td>2</td>\n",
       "    </tr>\n",
       "    <tr>\n",
       "      <th>...</th>\n",
       "      <td>...</td>\n",
       "      <td>...</td>\n",
       "      <td>...</td>\n",
       "      <td>...</td>\n",
       "      <td>...</td>\n",
       "    </tr>\n",
       "    <tr>\n",
       "      <th>2023054</th>\n",
       "      <td>ADQ41IJPQW2TN</td>\n",
       "      <td>B00LNOKBYW</td>\n",
       "      <td>5.0</td>\n",
       "      <td>1405728000</td>\n",
       "      <td>1</td>\n",
       "    </tr>\n",
       "    <tr>\n",
       "      <th>2023058</th>\n",
       "      <td>A1SJD7QDROVPCC</td>\n",
       "      <td>B00LNOKBYW</td>\n",
       "      <td>5.0</td>\n",
       "      <td>1405296000</td>\n",
       "      <td>1</td>\n",
       "    </tr>\n",
       "    <tr>\n",
       "      <th>2023059</th>\n",
       "      <td>AFPRQT3V8C1U1</td>\n",
       "      <td>B00LNOKBYW</td>\n",
       "      <td>5.0</td>\n",
       "      <td>1405468800</td>\n",
       "      <td>1</td>\n",
       "    </tr>\n",
       "    <tr>\n",
       "      <th>2023061</th>\n",
       "      <td>A1RYQPQ01T5D5R</td>\n",
       "      <td>B00LNOKBYW</td>\n",
       "      <td>5.0</td>\n",
       "      <td>1406073600</td>\n",
       "      <td>1</td>\n",
       "    </tr>\n",
       "    <tr>\n",
       "      <th>2023062</th>\n",
       "      <td>A3MQDRRGC9070R</td>\n",
       "      <td>B00LNOKBYW</td>\n",
       "      <td>5.0</td>\n",
       "      <td>1405987200</td>\n",
       "      <td>1</td>\n",
       "    </tr>\n",
       "  </tbody>\n",
       "</table>\n",
       "<p>2023070 rows × 5 columns</p>\n",
       "</div>"
      ],
      "text/plain": [
       "                 UserId   ProductId  Rating   Timestamp  users_counts\n",
       "0        A39HTATAQ9V7YF  0205616461     5.0  1369699200             4\n",
       "899125   A39HTATAQ9V7YF  B002OVV7F0     3.0  1369699200             4\n",
       "969482   A39HTATAQ9V7YF  B0031IH5FQ     5.0  1369699200             4\n",
       "1499680  A39HTATAQ9V7YF  B006GQPZ8E     4.0  1369699200             4\n",
       "1        A3JM6GV9MNOF9X  0558925278     3.0  1355443200             2\n",
       "...                 ...         ...     ...         ...           ...\n",
       "2023054   ADQ41IJPQW2TN  B00LNOKBYW     5.0  1405728000             1\n",
       "2023058  A1SJD7QDROVPCC  B00LNOKBYW     5.0  1405296000             1\n",
       "2023059   AFPRQT3V8C1U1  B00LNOKBYW     5.0  1405468800             1\n",
       "2023061  A1RYQPQ01T5D5R  B00LNOKBYW     5.0  1406073600             1\n",
       "2023062  A3MQDRRGC9070R  B00LNOKBYW     5.0  1405987200             1\n",
       "\n",
       "[2023070 rows x 5 columns]"
      ]
     },
     "execution_count": 12,
     "metadata": {},
     "output_type": "execute_result"
    }
   ],
   "source": [
    "users_data"
   ]
  },
  {
   "cell_type": "code",
   "execution_count": 17,
   "metadata": {},
   "outputs": [
    {
     "data": {
      "text/plain": [
       "(58289, 5)"
      ]
     },
     "execution_count": 17,
     "metadata": {},
     "output_type": "execute_result"
    }
   ],
   "source": [
    "# Select the users who has given above 30 number of ratings\n",
    "subset_user = users_data[users_data.users_counts >= 30]\n",
    "subset_user.shape"
   ]
  },
  {
   "cell_type": "markdown",
   "metadata": {},
   "source": [
    "We take cognizance of products that has above 10 rating"
   ]
  },
  {
   "cell_type": "code",
   "execution_count": 21,
   "metadata": {},
   "outputs": [
    {
     "data": {
      "text/plain": [
       "(2023070, 5)"
      ]
     },
     "execution_count": 21,
     "metadata": {},
     "output_type": "execute_result"
    }
   ],
   "source": [
    "product_count = df['ProductId'].value_counts().rename('product_count')\n",
    "product_data = df.merge(product_count.to_frame(),\n",
    "                                left_on='ProductId',\n",
    "                                right_index=True)\n",
    "                                \n",
    "product_data.shape"
   ]
  },
  {
   "cell_type": "markdown",
   "metadata": {},
   "source": [
    "#### __Model Based System__"
   ]
  },
  {
   "cell_type": "code",
   "execution_count": null,
   "metadata": {},
   "outputs": [],
   "source": []
  },
  {
   "cell_type": "code",
   "execution_count": 1,
   "metadata": {},
   "outputs": [],
   "source": [
    "from scipy.sparse import csr_matrix\n",
    "from sklearn.neighbors import NearestNeighbors"
   ]
  },
  {
   "cell_type": "code",
   "execution_count": 3,
   "metadata": {},
   "outputs": [],
   "source": [
    "df = ds.copy()"
   ]
  },
  {
   "cell_type": "code",
   "execution_count": 4,
   "metadata": {},
   "outputs": [],
   "source": [
    "# Since we dont have use for Timestamp, we drop it\n",
    "df.drop('Timestamp', axis=True, inplace=True)"
   ]
  },
  {
   "cell_type": "code",
   "execution_count": 5,
   "metadata": {},
   "outputs": [
    {
     "data": {
      "text/html": [
       "<div>\n",
       "<style scoped>\n",
       "    .dataframe tbody tr th:only-of-type {\n",
       "        vertical-align: middle;\n",
       "    }\n",
       "\n",
       "    .dataframe tbody tr th {\n",
       "        vertical-align: top;\n",
       "    }\n",
       "\n",
       "    .dataframe thead th {\n",
       "        text-align: right;\n",
       "    }\n",
       "</style>\n",
       "<table border=\"1\" class=\"dataframe\">\n",
       "  <thead>\n",
       "    <tr style=\"text-align: right;\">\n",
       "      <th></th>\n",
       "      <th>UserId</th>\n",
       "      <th>ProductId</th>\n",
       "      <th>Rating</th>\n",
       "      <th>Users_counts</th>\n",
       "    </tr>\n",
       "  </thead>\n",
       "  <tbody>\n",
       "    <tr>\n",
       "      <th>0</th>\n",
       "      <td>A39HTATAQ9V7YF</td>\n",
       "      <td>0205616461</td>\n",
       "      <td>5.0</td>\n",
       "      <td>4</td>\n",
       "    </tr>\n",
       "    <tr>\n",
       "      <th>899125</th>\n",
       "      <td>A39HTATAQ9V7YF</td>\n",
       "      <td>B002OVV7F0</td>\n",
       "      <td>3.0</td>\n",
       "      <td>4</td>\n",
       "    </tr>\n",
       "    <tr>\n",
       "      <th>969482</th>\n",
       "      <td>A39HTATAQ9V7YF</td>\n",
       "      <td>B0031IH5FQ</td>\n",
       "      <td>5.0</td>\n",
       "      <td>4</td>\n",
       "    </tr>\n",
       "    <tr>\n",
       "      <th>1499680</th>\n",
       "      <td>A39HTATAQ9V7YF</td>\n",
       "      <td>B006GQPZ8E</td>\n",
       "      <td>4.0</td>\n",
       "      <td>4</td>\n",
       "    </tr>\n",
       "    <tr>\n",
       "      <th>1</th>\n",
       "      <td>A3JM6GV9MNOF9X</td>\n",
       "      <td>0558925278</td>\n",
       "      <td>3.0</td>\n",
       "      <td>2</td>\n",
       "    </tr>\n",
       "  </tbody>\n",
       "</table>\n",
       "</div>"
      ],
      "text/plain": [
       "                 UserId   ProductId  Rating  Users_counts\n",
       "0        A39HTATAQ9V7YF  0205616461     5.0             4\n",
       "899125   A39HTATAQ9V7YF  B002OVV7F0     3.0             4\n",
       "969482   A39HTATAQ9V7YF  B0031IH5FQ     5.0             4\n",
       "1499680  A39HTATAQ9V7YF  B006GQPZ8E     4.0             4\n",
       "1        A3JM6GV9MNOF9X  0558925278     3.0             2"
      ]
     },
     "execution_count": 5,
     "metadata": {},
     "output_type": "execute_result"
    }
   ],
   "source": [
    "# Taking Subset of users who have given 50 or more number of ratings :-\n",
    "Users_counts = df['UserId'].value_counts().rename('Users_counts')\n",
    "df  = df.merge(Users_counts.to_frame(),\n",
    "                                left_on='UserId',\n",
    "                                right_index=True)\n",
    "df.head()"
   ]
  },
  {
   "cell_type": "code",
   "execution_count": 6,
   "metadata": {},
   "outputs": [
    {
     "data": {
      "text/html": [
       "<div>\n",
       "<style scoped>\n",
       "    .dataframe tbody tr th:only-of-type {\n",
       "        vertical-align: middle;\n",
       "    }\n",
       "\n",
       "    .dataframe tbody tr th {\n",
       "        vertical-align: top;\n",
       "    }\n",
       "\n",
       "    .dataframe thead th {\n",
       "        text-align: right;\n",
       "    }\n",
       "</style>\n",
       "<table border=\"1\" class=\"dataframe\">\n",
       "  <thead>\n",
       "    <tr style=\"text-align: right;\">\n",
       "      <th></th>\n",
       "      <th>UserId</th>\n",
       "      <th>ProductId</th>\n",
       "      <th>Rating</th>\n",
       "      <th>Users_counts</th>\n",
       "    </tr>\n",
       "  </thead>\n",
       "  <tbody>\n",
       "    <tr>\n",
       "      <th>1429936</th>\n",
       "      <td>A3KEZLJ59C1JVH</td>\n",
       "      <td>B005NBRX2O</td>\n",
       "      <td>2.0</td>\n",
       "      <td>389</td>\n",
       "    </tr>\n",
       "    <tr>\n",
       "      <th>1247399</th>\n",
       "      <td>A3KEZLJ59C1JVH</td>\n",
       "      <td>B004IT5478</td>\n",
       "      <td>4.0</td>\n",
       "      <td>389</td>\n",
       "    </tr>\n",
       "    <tr>\n",
       "      <th>1320382</th>\n",
       "      <td>A3KEZLJ59C1JVH</td>\n",
       "      <td>B004WYBCJI</td>\n",
       "      <td>3.0</td>\n",
       "      <td>389</td>\n",
       "    </tr>\n",
       "    <tr>\n",
       "      <th>1318364</th>\n",
       "      <td>A3KEZLJ59C1JVH</td>\n",
       "      <td>B004WNWX4M</td>\n",
       "      <td>5.0</td>\n",
       "      <td>389</td>\n",
       "    </tr>\n",
       "    <tr>\n",
       "      <th>1790817</th>\n",
       "      <td>A3KEZLJ59C1JVH</td>\n",
       "      <td>B00AFY8QUM</td>\n",
       "      <td>3.0</td>\n",
       "      <td>389</td>\n",
       "    </tr>\n",
       "  </tbody>\n",
       "</table>\n",
       "</div>"
      ],
      "text/plain": [
       "                 UserId   ProductId  Rating  Users_counts\n",
       "1429936  A3KEZLJ59C1JVH  B005NBRX2O     2.0           389\n",
       "1247399  A3KEZLJ59C1JVH  B004IT5478     4.0           389\n",
       "1320382  A3KEZLJ59C1JVH  B004WYBCJI     3.0           389\n",
       "1318364  A3KEZLJ59C1JVH  B004WNWX4M     5.0           389\n",
       "1790817  A3KEZLJ59C1JVH  B00AFY8QUM     3.0           389"
      ]
     },
     "execution_count": 6,
     "metadata": {},
     "output_type": "execute_result"
    }
   ],
   "source": [
    "df.sort_values(by = ['Users_counts'], ascending = False).head()"
   ]
  },
  {
   "cell_type": "code",
   "execution_count": 9,
   "metadata": {},
   "outputs": [
    {
     "data": {
      "text/plain": [
       "(40659, 4)"
      ]
     },
     "execution_count": 9,
     "metadata": {},
     "output_type": "execute_result"
    }
   ],
   "source": [
    "# Select the users who has given above 30 number of ratings\n",
    "df = df[df.Users_counts >= 40]\n",
    "df.shape"
   ]
  },
  {
   "cell_type": "code",
   "execution_count": 7,
   "metadata": {},
   "outputs": [
    {
     "data": {
      "text/html": [
       "<div>\n",
       "<style scoped>\n",
       "    .dataframe tbody tr th:only-of-type {\n",
       "        vertical-align: middle;\n",
       "    }\n",
       "\n",
       "    .dataframe tbody tr th {\n",
       "        vertical-align: top;\n",
       "    }\n",
       "\n",
       "    .dataframe thead th {\n",
       "        text-align: right;\n",
       "    }\n",
       "</style>\n",
       "<table border=\"1\" class=\"dataframe\">\n",
       "  <thead>\n",
       "    <tr style=\"text-align: right;\">\n",
       "      <th></th>\n",
       "      <th>UserId</th>\n",
       "      <th>ProductId</th>\n",
       "      <th>Rating</th>\n",
       "      <th>Users_counts</th>\n",
       "      <th>Product_Rating_Counts</th>\n",
       "    </tr>\n",
       "  </thead>\n",
       "  <tbody>\n",
       "    <tr>\n",
       "      <th>0</th>\n",
       "      <td>A39HTATAQ9V7YF</td>\n",
       "      <td>0205616461</td>\n",
       "      <td>5.0</td>\n",
       "      <td>4</td>\n",
       "      <td>1</td>\n",
       "    </tr>\n",
       "    <tr>\n",
       "      <th>899125</th>\n",
       "      <td>A39HTATAQ9V7YF</td>\n",
       "      <td>B002OVV7F0</td>\n",
       "      <td>3.0</td>\n",
       "      <td>4</td>\n",
       "      <td>346</td>\n",
       "    </tr>\n",
       "    <tr>\n",
       "      <th>899372</th>\n",
       "      <td>A3BTN14HIZET6Z</td>\n",
       "      <td>B002OVV7F0</td>\n",
       "      <td>4.0</td>\n",
       "      <td>23</td>\n",
       "      <td>346</td>\n",
       "    </tr>\n",
       "    <tr>\n",
       "      <th>899278</th>\n",
       "      <td>A2C58G8O40YC7T</td>\n",
       "      <td>B002OVV7F0</td>\n",
       "      <td>5.0</td>\n",
       "      <td>186</td>\n",
       "      <td>346</td>\n",
       "    </tr>\n",
       "    <tr>\n",
       "      <th>899291</th>\n",
       "      <td>A285W83NMJ5W8W</td>\n",
       "      <td>B002OVV7F0</td>\n",
       "      <td>5.0</td>\n",
       "      <td>7</td>\n",
       "      <td>346</td>\n",
       "    </tr>\n",
       "  </tbody>\n",
       "</table>\n",
       "</div>"
      ],
      "text/plain": [
       "                UserId   ProductId  Rating  Users_counts  \\\n",
       "0       A39HTATAQ9V7YF  0205616461     5.0             4   \n",
       "899125  A39HTATAQ9V7YF  B002OVV7F0     3.0             4   \n",
       "899372  A3BTN14HIZET6Z  B002OVV7F0     4.0            23   \n",
       "899278  A2C58G8O40YC7T  B002OVV7F0     5.0           186   \n",
       "899291  A285W83NMJ5W8W  B002OVV7F0     5.0             7   \n",
       "\n",
       "        Product_Rating_Counts  \n",
       "0                           1  \n",
       "899125                    346  \n",
       "899372                    346  \n",
       "899278                    346  \n",
       "899291                    346  "
      ]
     },
     "execution_count": 7,
     "metadata": {},
     "output_type": "execute_result"
    }
   ],
   "source": [
    "# There are 2 millions user ratings. Select only products that above 30 ratings\n",
    "\n",
    "Product_Rating_Counts = df['ProductId'].value_counts().rename('Product_Rating_Counts')\n",
    "df   = df.merge(Product_Rating_Counts.to_frame(),\n",
    "                                left_on='ProductId',\n",
    "                                right_index=True)\n",
    "df.head()"
   ]
  },
  {
   "cell_type": "code",
   "execution_count": 11,
   "metadata": {},
   "outputs": [
    {
     "name": "stdout",
     "output_type": "stream",
     "text": [
      "(4286, 5)\n"
     ]
    }
   ],
   "source": [
    "# Select product with above 70 rating entries\n",
    "df = df[df.Product_Rating_Counts >= 30]\n",
    "df.head()\n",
    "print(df.shape)"
   ]
  },
  {
   "cell_type": "code",
   "execution_count": 99,
   "metadata": {},
   "outputs": [
    {
     "data": {
      "text/html": [
       "<div>\n",
       "<style scoped>\n",
       "    .dataframe tbody tr th:only-of-type {\n",
       "        vertical-align: middle;\n",
       "    }\n",
       "\n",
       "    .dataframe tbody tr th {\n",
       "        vertical-align: top;\n",
       "    }\n",
       "\n",
       "    .dataframe thead th {\n",
       "        text-align: right;\n",
       "    }\n",
       "</style>\n",
       "<table border=\"1\" class=\"dataframe\">\n",
       "  <thead>\n",
       "    <tr style=\"text-align: right;\">\n",
       "      <th></th>\n",
       "      <th>UserId</th>\n",
       "      <th>ProductId</th>\n",
       "      <th>Rating</th>\n",
       "      <th>Users_counts</th>\n",
       "      <th>Product_Rating_Counts</th>\n",
       "    </tr>\n",
       "  </thead>\n",
       "  <tbody>\n",
       "    <tr>\n",
       "      <th>1081714</th>\n",
       "      <td>AKJHHD5VEH7VG</td>\n",
       "      <td>B003P904EA</td>\n",
       "      <td>4.0</td>\n",
       "      <td>90</td>\n",
       "      <td>31</td>\n",
       "    </tr>\n",
       "    <tr>\n",
       "      <th>1081738</th>\n",
       "      <td>A2VOGNBUMXSW13</td>\n",
       "      <td>B003P904EA</td>\n",
       "      <td>4.0</td>\n",
       "      <td>62</td>\n",
       "      <td>31</td>\n",
       "    </tr>\n",
       "    <tr>\n",
       "      <th>1081775</th>\n",
       "      <td>A19SDJ2TSSL8HI</td>\n",
       "      <td>B003P904EA</td>\n",
       "      <td>4.0</td>\n",
       "      <td>46</td>\n",
       "      <td>31</td>\n",
       "    </tr>\n",
       "    <tr>\n",
       "      <th>1081841</th>\n",
       "      <td>A1TPW86OHXTXFC</td>\n",
       "      <td>B003P904EA</td>\n",
       "      <td>4.0</td>\n",
       "      <td>182</td>\n",
       "      <td>31</td>\n",
       "    </tr>\n",
       "    <tr>\n",
       "      <th>1081885</th>\n",
       "      <td>A2GHU8I0P3HFRW</td>\n",
       "      <td>B003P904EA</td>\n",
       "      <td>4.0</td>\n",
       "      <td>42</td>\n",
       "      <td>31</td>\n",
       "    </tr>\n",
       "  </tbody>\n",
       "</table>\n",
       "</div>"
      ],
      "text/plain": [
       "                 UserId   ProductId  Rating  Users_counts  \\\n",
       "1081714   AKJHHD5VEH7VG  B003P904EA     4.0            90   \n",
       "1081738  A2VOGNBUMXSW13  B003P904EA     4.0            62   \n",
       "1081775  A19SDJ2TSSL8HI  B003P904EA     4.0            46   \n",
       "1081841  A1TPW86OHXTXFC  B003P904EA     4.0           182   \n",
       "1081885  A2GHU8I0P3HFRW  B003P904EA     4.0            42   \n",
       "\n",
       "         Product_Rating_Counts  \n",
       "1081714                     31  \n",
       "1081738                     31  \n",
       "1081775                     31  \n",
       "1081841                     31  \n",
       "1081885                     31  "
      ]
     },
     "execution_count": 99,
     "metadata": {},
     "output_type": "execute_result"
    }
   ],
   "source": [
    "df.head()"
   ]
  },
  {
   "cell_type": "markdown",
   "metadata": {},
   "source": [
    "We have achieved the end for which we needed Users_Count and Product_rating_Count, so we drop them"
   ]
  },
  {
   "cell_type": "code",
   "execution_count": 8,
   "metadata": {},
   "outputs": [
    {
     "data": {
      "text/html": [
       "<div>\n",
       "<style scoped>\n",
       "    .dataframe tbody tr th:only-of-type {\n",
       "        vertical-align: middle;\n",
       "    }\n",
       "\n",
       "    .dataframe tbody tr th {\n",
       "        vertical-align: top;\n",
       "    }\n",
       "\n",
       "    .dataframe thead th {\n",
       "        text-align: right;\n",
       "    }\n",
       "</style>\n",
       "<table border=\"1\" class=\"dataframe\">\n",
       "  <thead>\n",
       "    <tr style=\"text-align: right;\">\n",
       "      <th></th>\n",
       "      <th>UserId</th>\n",
       "      <th>ProductId</th>\n",
       "      <th>Rating</th>\n",
       "    </tr>\n",
       "  </thead>\n",
       "  <tbody>\n",
       "    <tr>\n",
       "      <th>0</th>\n",
       "      <td>A39HTATAQ9V7YF</td>\n",
       "      <td>0205616461</td>\n",
       "      <td>5.0</td>\n",
       "    </tr>\n",
       "    <tr>\n",
       "      <th>899125</th>\n",
       "      <td>A39HTATAQ9V7YF</td>\n",
       "      <td>B002OVV7F0</td>\n",
       "      <td>3.0</td>\n",
       "    </tr>\n",
       "    <tr>\n",
       "      <th>899372</th>\n",
       "      <td>A3BTN14HIZET6Z</td>\n",
       "      <td>B002OVV7F0</td>\n",
       "      <td>4.0</td>\n",
       "    </tr>\n",
       "    <tr>\n",
       "      <th>899278</th>\n",
       "      <td>A2C58G8O40YC7T</td>\n",
       "      <td>B002OVV7F0</td>\n",
       "      <td>5.0</td>\n",
       "    </tr>\n",
       "    <tr>\n",
       "      <th>899291</th>\n",
       "      <td>A285W83NMJ5W8W</td>\n",
       "      <td>B002OVV7F0</td>\n",
       "      <td>5.0</td>\n",
       "    </tr>\n",
       "  </tbody>\n",
       "</table>\n",
       "</div>"
      ],
      "text/plain": [
       "                UserId   ProductId  Rating\n",
       "0       A39HTATAQ9V7YF  0205616461     5.0\n",
       "899125  A39HTATAQ9V7YF  B002OVV7F0     3.0\n",
       "899372  A3BTN14HIZET6Z  B002OVV7F0     4.0\n",
       "899278  A2C58G8O40YC7T  B002OVV7F0     5.0\n",
       "899291  A285W83NMJ5W8W  B002OVV7F0     5.0"
      ]
     },
     "execution_count": 8,
     "metadata": {},
     "output_type": "execute_result"
    }
   ],
   "source": [
    "dff = df.drop(['Users_counts', 'Product_Rating_Counts'], axis = 1)\n",
    "dff.head()"
   ]
  },
  {
   "cell_type": "markdown",
   "metadata": {},
   "source": [
    "#### __Popularity Based Model__"
   ]
  },
  {
   "cell_type": "code",
   "execution_count": 9,
   "metadata": {},
   "outputs": [
    {
     "data": {
      "text/html": [
       "<div>\n",
       "<style scoped>\n",
       "    .dataframe tbody tr th:only-of-type {\n",
       "        vertical-align: middle;\n",
       "    }\n",
       "\n",
       "    .dataframe tbody tr th {\n",
       "        vertical-align: top;\n",
       "    }\n",
       "\n",
       "    .dataframe thead th {\n",
       "        text-align: right;\n",
       "    }\n",
       "</style>\n",
       "<table border=\"1\" class=\"dataframe\">\n",
       "  <thead>\n",
       "    <tr style=\"text-align: right;\">\n",
       "      <th></th>\n",
       "      <th>Rating</th>\n",
       "      <th>Rating_Count</th>\n",
       "    </tr>\n",
       "    <tr>\n",
       "      <th>ProductId</th>\n",
       "      <th></th>\n",
       "      <th></th>\n",
       "    </tr>\n",
       "  </thead>\n",
       "  <tbody>\n",
       "    <tr>\n",
       "      <th>B00550YQP0</th>\n",
       "      <td>5.0</td>\n",
       "      <td>3</td>\n",
       "    </tr>\n",
       "    <tr>\n",
       "      <th>B0054ZSIXC</th>\n",
       "      <td>5.0</td>\n",
       "      <td>2</td>\n",
       "    </tr>\n",
       "    <tr>\n",
       "      <th>B00550UX52</th>\n",
       "      <td>5.0</td>\n",
       "      <td>2</td>\n",
       "    </tr>\n",
       "    <tr>\n",
       "      <th>B0055189P2</th>\n",
       "      <td>5.0</td>\n",
       "      <td>2</td>\n",
       "    </tr>\n",
       "    <tr>\n",
       "      <th>B00551BAAI</th>\n",
       "      <td>5.0</td>\n",
       "      <td>2</td>\n",
       "    </tr>\n",
       "    <tr>\n",
       "      <th>0205616461</th>\n",
       "      <td>5.0</td>\n",
       "      <td>1</td>\n",
       "    </tr>\n",
       "    <tr>\n",
       "      <th>B00551HYQC</th>\n",
       "      <td>5.0</td>\n",
       "      <td>1</td>\n",
       "    </tr>\n",
       "    <tr>\n",
       "      <th>B00551EJWE</th>\n",
       "      <td>5.0</td>\n",
       "      <td>1</td>\n",
       "    </tr>\n",
       "    <tr>\n",
       "      <th>B00551I2ZY</th>\n",
       "      <td>5.0</td>\n",
       "      <td>1</td>\n",
       "    </tr>\n",
       "    <tr>\n",
       "      <th>B005535BC4</th>\n",
       "      <td>5.0</td>\n",
       "      <td>1</td>\n",
       "    </tr>\n",
       "  </tbody>\n",
       "</table>\n",
       "</div>"
      ],
      "text/plain": [
       "            Rating  Rating_Count\n",
       "ProductId                       \n",
       "B00550YQP0     5.0             3\n",
       "B0054ZSIXC     5.0             2\n",
       "B00550UX52     5.0             2\n",
       "B0055189P2     5.0             2\n",
       "B00551BAAI     5.0             2\n",
       "0205616461     5.0             1\n",
       "B00551HYQC     5.0             1\n",
       "B00551EJWE     5.0             1\n",
       "B00551I2ZY     5.0             1\n",
       "B005535BC4     5.0             1"
      ]
     },
     "execution_count": 9,
     "metadata": {},
     "output_type": "execute_result"
    }
   ],
   "source": [
    "# Sort the dataset by ProductId and the ratings based on their mean(). Select 10 highly rated Products\n",
    "\n",
    "recommendation = pd.DataFrame(dff.groupby('ProductId')['Rating'].mean().sort_values(ascending=False).head(10))\n",
    "recommendation['Rating_Count'] = pd.DataFrame(dff.groupby('ProductId')['Rating'].count())\n",
    "recommendation.sort_values(by=['Rating_Count'], ascending= False).head(10)"
   ]
  },
  {
   "cell_type": "code",
   "execution_count": 14,
   "metadata": {},
   "outputs": [
    {
     "data": {
      "text/html": [
       "<div>\n",
       "<style scoped>\n",
       "    .dataframe tbody tr th:only-of-type {\n",
       "        vertical-align: middle;\n",
       "    }\n",
       "\n",
       "    .dataframe tbody tr th {\n",
       "        vertical-align: top;\n",
       "    }\n",
       "\n",
       "    .dataframe thead th {\n",
       "        text-align: right;\n",
       "    }\n",
       "</style>\n",
       "<table border=\"1\" class=\"dataframe\">\n",
       "  <thead>\n",
       "    <tr style=\"text-align: right;\">\n",
       "      <th></th>\n",
       "      <th>Rating</th>\n",
       "      <th>Rating_Count</th>\n",
       "    </tr>\n",
       "    <tr>\n",
       "      <th>ProductId</th>\n",
       "      <th></th>\n",
       "      <th></th>\n",
       "    </tr>\n",
       "  </thead>\n",
       "  <tbody>\n",
       "    <tr>\n",
       "      <th>B00AWLB9G6</th>\n",
       "      <td>4.480769</td>\n",
       "      <td>52</td>\n",
       "    </tr>\n",
       "    <tr>\n",
       "      <th>B009YSSLAU</th>\n",
       "      <td>4.461538</td>\n",
       "      <td>52</td>\n",
       "    </tr>\n",
       "    <tr>\n",
       "      <th>B000E0K7NQ</th>\n",
       "      <td>4.477273</td>\n",
       "      <td>44</td>\n",
       "    </tr>\n",
       "    <tr>\n",
       "      <th>B00A0J09G6</th>\n",
       "      <td>4.431818</td>\n",
       "      <td>44</td>\n",
       "    </tr>\n",
       "    <tr>\n",
       "      <th>B00A0J09C0</th>\n",
       "      <td>4.564103</td>\n",
       "      <td>39</td>\n",
       "    </tr>\n",
       "    <tr>\n",
       "      <th>B000142FVW</th>\n",
       "      <td>4.540541</td>\n",
       "      <td>37</td>\n",
       "    </tr>\n",
       "    <tr>\n",
       "      <th>B00AWLBACE</th>\n",
       "      <td>4.750000</td>\n",
       "      <td>36</td>\n",
       "    </tr>\n",
       "    <tr>\n",
       "      <th>B001ECQ4JE</th>\n",
       "      <td>4.428571</td>\n",
       "      <td>35</td>\n",
       "    </tr>\n",
       "    <tr>\n",
       "      <th>B00AE07FUE</th>\n",
       "      <td>4.454545</td>\n",
       "      <td>33</td>\n",
       "    </tr>\n",
       "    <tr>\n",
       "      <th>B00A0J09GG</th>\n",
       "      <td>4.406250</td>\n",
       "      <td>32</td>\n",
       "    </tr>\n",
       "  </tbody>\n",
       "</table>\n",
       "</div>"
      ],
      "text/plain": [
       "              Rating  Rating_Count\n",
       "ProductId                         \n",
       "B00AWLB9G6  4.480769            52\n",
       "B009YSSLAU  4.461538            52\n",
       "B000E0K7NQ  4.477273            44\n",
       "B00A0J09G6  4.431818            44\n",
       "B00A0J09C0  4.564103            39\n",
       "B000142FVW  4.540541            37\n",
       "B00AWLBACE  4.750000            36\n",
       "B001ECQ4JE  4.428571            35\n",
       "B00AE07FUE  4.454545            33\n",
       "B00A0J09GG  4.406250            32"
      ]
     },
     "execution_count": 14,
     "metadata": {},
     "output_type": "execute_result"
    }
   ],
   "source": [
    "# Popularity based on the mean of the most rated\n",
    "\n",
    "popularity = recommendation.sort_values(by=['Rating_Count'], ascending=False)\n",
    "popularity.head(10)"
   ]
  }
 ],
 "metadata": {
  "interpreter": {
   "hash": "78137cbb3708316f3d8ad13bdddda50408039ccddca8da6e2a29cf3382118912"
  },
  "kernelspec": {
   "display_name": "Python 3.10.2 64-bit",
   "language": "python",
   "name": "python3"
  },
  "language_info": {
   "codemirror_mode": {
    "name": "ipython",
    "version": 3
   },
   "file_extension": ".py",
   "mimetype": "text/x-python",
   "name": "python",
   "nbconvert_exporter": "python",
   "pygments_lexer": "ipython3",
   "version": "3.10.2"
  },
  "orig_nbformat": 4
 },
 "nbformat": 4,
 "nbformat_minor": 2
}
